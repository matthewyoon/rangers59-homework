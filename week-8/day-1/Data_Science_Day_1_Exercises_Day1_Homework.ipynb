{
 "cells": [
  {
   "cell_type": "markdown",
   "metadata": {
    "id": "0LSnMhyjo_8X"
   },
   "source": [
    "# Exercises"
   ]
  },
  {
   "cell_type": "markdown",
   "metadata": {
    "id": "jA5rB_q2o_8c"
   },
   "source": [
    "### #1 - Calculate the BMI (body mass index) on the two lists below using NDArrays..."
   ]
  },
  {
   "cell_type": "code",
   "execution_count": 6,
   "metadata": {
    "id": "E2hR9NEWo_8c"
   },
   "outputs": [
    {
     "data": {
      "text/plain": [
       "array([16.86620458, 17.87755102, 18.82562984, 19.71450617, 20.54794521,\n",
       "       21.32943755, 22.06222222])"
      ]
     },
     "execution_count": 6,
     "metadata": {},
     "output_type": "execute_result"
    }
   ],
   "source": [
    "import numpy as np\n",
    "# formula = weight / (height**2) * 730\n",
    "height = [69, 70, 71, 72, 73, 74, 75]\n",
    "weight = [110, 120, 130, 140, 150, 160, 170]\n",
    "\n",
    "# OUTPUT: [16.86620458 17.87755102 18.82562984 19.71450617 20.54794521 21.32943755\n",
    "# 22.06222222]\n",
    "\n",
    "new_height = np.array(height)\n",
    "new_weight = np.array(weight)\n",
    "\n",
    "new_weight\n",
    "\n",
    "(new_weight / (new_height**2))*730"
   ]
  },
  {
   "cell_type": "markdown",
   "metadata": {
    "id": "_5jsj2hto_8d"
   },
   "source": [
    "### #2 - Create a function that will take in two parameters and will create a random matrix based off of those parameters. Extra: Have additional parameters taken in that allow the user to choose the shape and data type of the matrix."
   ]
  },
  {
   "cell_type": "code",
   "execution_count": 33,
   "metadata": {
    "id": "VUhglieXo_8d"
   },
   "outputs": [
    {
     "name": "stdout",
     "output_type": "stream",
     "text": [
      "float version: \n",
      " [[0.8647326  7.63938353 2.09710959]\n",
      " [0.63786932 3.66748777 4.18957531]\n",
      " [2.83181443 4.96199408 9.73133588]]\n",
      "\n",
      " integer version: \n",
      " [[4 5 6]\n",
      " [3 8 6]\n",
      " [9 2 5]]\n"
     ]
    }
   ],
   "source": [
    "\"\"\"\n",
    "Example Result\n",
    "array([[14.21633515,  7.98846653,  9.64140715],\n",
    "       [ 6.30982234,  9.96414331,  8.43153688],\n",
    "       [14.73102068, 11.76072894, 14.23356121]])\n",
    "\"\"\"\n",
    "def makeMatrix(low,high,shape = None,data_type = float):\n",
    "    if data_type == int:\n",
    "        return np.random.randint(low,high,(shape))\n",
    "    else:\n",
    "        return np.random.uniform(low, high,(shape))\n",
    "    \n",
    "print('float version: \\n',makeMatrix(0,10,(3,3)))\n",
    "print('\\n integer version: \\n',makeMatrix(0,10,(3,3),int))"
   ]
  },
  {
   "cell_type": "markdown",
   "metadata": {
    "id": "glTaNYtxo_8d"
   },
   "source": [
    "### #3 - Extra: Open and load the data in the two text files that have the Boston Red Sox hitting data for the past seasons. Compare the difference in the two years by putting the data into an NDArray and running a differencial operation on it. The column to look for will be SLG.\n",
    "\n",
    "Your output should display which year (either 2017 or 2018) was a better year based on SLG"
   ]
  },
  {
   "cell_type": "code",
   "execution_count": 90,
   "metadata": {
    "id": "L7ceSIqQo_8d",
    "scrolled": true
   },
   "outputs": [
    {
     "name": "stdout",
     "output_type": "stream",
     "text": [
      "Boston 2017 had more SLG, better mins and maxes than 2018: \n",
      " [0.2   0.222 0.243 0.262 0.306 0.328 0.333 0.339 0.342 0.354 0.354 0.387\n",
      " 0.392 0.402 0.403 0.404 0.424 0.429 0.443 0.459 0.482 0.539 1.   ]\n",
      "\n",
      " Boston 2018 had lower mins and maxes: \n",
      " [0.091 0.167 0.261 0.279 0.283 0.311 0.328 0.388 0.389 0.395 0.403 0.411\n",
      " 0.415 0.433 0.433 0.465 0.507 0.522 0.629 0.64 ]\n"
     ]
    }
   ],
   "source": [
    "import csv\n",
    "import numpy as np\n",
    "\n",
    "#Test to make sure you have the correct data\n",
    "\n",
    "FIELDS = ['Rk', 'Pos', 'Name', 'Age', 'G', 'PA', 'AB', 'R', 'H', '2B', '3B', 'HR', 'RBI', 'SB', 'CS', \n",
    "          'BB', 'SO', 'BA', 'OBP', 'SLG', 'OPS', 'OPS+', 'TB', 'GDP', 'HBP', 'SH', 'SF', 'IBB']\n",
    "\n",
    "DATATYPES = [('rk', 'i'), ('pos', '|S25'), ('name', '|S25'), ('age', 'i'), ('g', 'i'), ('pa', 'i'), ('ab', 'i'),\n",
    "                ('r', 'i'), ('h', 'i'), ('2b', 'i'), ('3b', 'i'), ('hr', 'i'), ('rbi', 'i'), ('sb', 'i'), ('cs', 'i'),\n",
    "                ('bb', 'i'), ('so', 'i'), ('ba', 'f'), ('obp', 'f'), ('slg', 'f'), ('ops', 'f'), ('opsp', 'i'),\n",
    "                ('tb', 'i'), ('gdp', 'i'), ('hbp', 'i'), ('sh', 'i'), ('sf', 'i'), ('ibb', 'i')]\n",
    "\n",
    "# Creating Function to open and read CSV data\n",
    "def load_data(filename, d = ','):\n",
    "    data = np.genfromtxt(filename, delimiter = d, skip_header = 1,\n",
    "                        usecols = np.arange(0,24), invalid_raise = False,\n",
    "                        names = FIELDS, dtype = DATATYPES)\n",
    "    return data\n",
    "\n",
    "bs2017 = load_data('../day-1/redsox_2017_hitting.txt')\n",
    "slug2017 = sorted(bs2017['SLG'])\n",
    "new_slug2017 = np.array(slug2017)\n",
    "# new_slug2017 = np.delete(new_slug2017,[0,1,2]) -- wanted to delete the smallest values so I could use the subtract operand\n",
    "# to find the difference between the 2 years.\n",
    "print(f'Boston 2017 had more SLG, better mins and maxes than 2018: \\n {new_slug2017}')\n",
    "\n",
    "bs2018 = load_data('../day-1/redsox_2018_hitting.txt')\n",
    "slug2018 = sorted(bs2018['SLG'])\n",
    "new_slug2018 = np.array(slug2018)\n",
    "print(f'\\n Boston 2018 had lower mins and maxes: \\n {new_slug2018}')"
   ]
  },
  {
   "cell_type": "code",
   "execution_count": 86,
   "metadata": {
    "id": "W9O7_OCGo_8e"
   },
   "outputs": [
    {
     "data": {
      "text/plain": [
       "array([ 0.171     ,  0.139     ,  0.067     ,  0.05399999,  0.05599999,\n",
       "        0.03100002,  0.02599999, -0.03400001, -0.002     , -0.00300002,\n",
       "       -0.00099999, -0.00800002, -0.01099998, -0.009     , -0.00400001,\n",
       "       -0.02200001, -0.04800004, -0.04000002, -0.09000003,  0.36      ],\n",
       "      dtype=float32)"
      ]
     },
     "execution_count": 86,
     "metadata": {},
     "output_type": "execute_result"
    }
   ],
   "source": [
    "\"\"\"\n",
    "Example Result - Not the actual result\n",
    "Boston 18 had more SLG in 2018\n",
    "[0.404 0.443 0.392 0.403 0.482 0.424 0.402 0.459 0.429 0.354 0.387 0.333\n",
    " 0.539 0.243 0.262 0.354 0.342 0.339 0.328 0.306 0.222 0.2   1.   ]\n",
    "\"\"\"\n",
    "\n",
    "FIELDS = ['Rk', 'Pos', 'Name', 'Age', 'G', 'PA', 'AB', 'R', 'H', '2B', '3B', 'HR', 'RBI', 'SB', 'CS', \n",
    "          'BB', 'SO', 'BA', 'OBP', 'SLG', 'OPS', 'OPS+', 'TB', 'GDP', 'HBP', 'SH', 'SF', 'IBB']\n",
    "\n",
    "DATATYPES = [('rk', 'i'), ('pos', '|S25'), ('name', '|S25'), ('age', 'i'), ('g', 'i'), ('pa', 'i'), ('ab', 'i'),\n",
    "                ('r', 'i'), ('h', 'i'), ('2b', 'i'), ('3b', 'i'), ('hr', 'i'), ('rbi', 'i'), ('sb', 'i'), ('cs', 'i'),\n",
    "                ('bb', 'i'), ('so', 'i'), ('ba', 'f'), ('obp', 'f'), ('slg', 'f'), ('ops', 'f'), ('opsp', 'i'),\n",
    "                ('tb', 'i'), ('gdp', 'i'), ('hbp', 'i'), ('sh', 'i'), ('sf', 'i'), ('ibb', 'i')]\n",
    "\n",
    "#Use this function to actually open the data inside of a NDArray\n",
    "\n",
    "slg_diff = new_slug2017 - new_slug2018\n",
    "slg_diff"
   ]
  }
 ],
 "metadata": {
  "colab": {
   "name": "Data_Science_Day_1_Exercises-Day1- Homework.ipynb",
   "provenance": []
  },
  "kernelspec": {
   "display_name": "Python 3",
   "language": "python",
   "name": "python3"
  },
  "language_info": {
   "codemirror_mode": {
    "name": "ipython",
    "version": 3
   },
   "file_extension": ".py",
   "mimetype": "text/x-python",
   "name": "python",
   "nbconvert_exporter": "python",
   "pygments_lexer": "ipython3",
   "version": "3.8.5"
  }
 },
 "nbformat": 4,
 "nbformat_minor": 1
}
