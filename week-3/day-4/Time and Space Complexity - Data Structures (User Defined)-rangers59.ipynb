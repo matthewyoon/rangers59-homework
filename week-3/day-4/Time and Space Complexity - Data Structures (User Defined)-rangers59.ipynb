{
 "cells": [
  {
   "cell_type": "markdown",
   "metadata": {},
   "source": [
    "# Time/Space Complexity - Intro to Data Structures (User Defined)\n",
    "\n",
    "### Topics to discuss today:\n",
    "\n",
    "<ul>\n",
    "    <li>Time and Space Complexity - What is it/How do we measure it</li>\n",
    "    <li>Asymptotic Analysis</li>\n",
    "    <li><strong>Data Structures</strong></li>\n",
    "    <li>Some of the popular sorting algorithms</li>\n",
    "</ul>\n",
    "\n",
    "### Data Structures to discuss:\n",
    "- Arrays\n",
    "- Stacks\n",
    "- Queues\n",
    "- Linked Lists\n",
    "    - Singly Linked Lists\n",
    "    - Traversing A Linked List\n",
    "    - Finding a node in a linked list\n",
    "    - Adding to a linked list\n"
   ]
  },
  {
   "cell_type": "markdown",
   "metadata": {},
   "source": [
    "## Time and Space Complexity\n",
    "\n",
    "#### What is it?\n",
    "\n",
    "Time and space complexity is the measure of how much time a given action(function) will take to solve a problem. In the same fashion, we determine how much a given data structure will need in terms of memory allocation. A problem can have multiple solutions and finding the optimal solution for the problem needs to be analyzed in time and space.\n",
    "\n",
    "#### How do we measure Time and Space Complexity?\n",
    "\n",
    "In order to measure time and space complexity we use Asymptotic analysis. The reason for this is because we need a way to measure different algorithms (functions) based on the size of their inputs in a mathmatical way. For example, we could have a function that is computed as f(n) and another that is g(n^2). All things around the function staying constant, the only thing that changes is the size of the input. Below is the chart that shows the different Asymptotic analysis formats. "
   ]
  },
  {
   "cell_type": "markdown",
   "metadata": {},
   "source": [
    "<table style=\"text-align:center;\" class=\"table table-bordered\">\n",
    "<tbody><tr>\n",
    "<td>constant</td>\n",
    "<td>−</td>\n",
    "<td>Ο(1)</td>\n",
    "</tr>\n",
    "<tr>\n",
    "<td>logarithmic</td>\n",
    "<td>−</td>\n",
    "<td>Ο(log n)</td>\n",
    "</tr>\n",
    "<tr>\n",
    "<td>linear</td>\n",
    "<td>−</td>\n",
    "<td>Ο(n)</td>\n",
    "</tr>\n",
    "<tr>\n",
    "<td>Linear Logarithmic</td>\n",
    "<td>−</td>\n",
    "<td>Ο(n log n)</td>\n",
    "</tr>\n",
    "<tr>\n",
    "<td>quadratic</td>\n",
    "<td>−</td>\n",
    "<td>Ο(n<sup>2</sup>)</td>\n",
    "</tr>\n",
    "<tr>\n",
    "<td>cubic</td>\n",
    "<td>−</td>\n",
    "<td>Ο(n<sup>3</sup>)</td>\n",
    "</tr>\n",
    "<tr>\n",
    "<td>polynomial</td>\n",
    "<td>−</td>\n",
    "<td>n<sup>Ο(1)</sup></td>\n",
    "</tr>\n",
    "<tr>\n",
    "<td>exponential</td>\n",
    "<td>−</td>\n",
    "<td>2<sup>Ο(n)</sup></td>\n",
    "</tr>\n",
    "</tbody></table>"
   ]
  },
  {
   "cell_type": "code",
   "execution_count": 1,
   "metadata": {},
   "outputs": [
    {
     "name": "stdout",
     "output_type": "stream",
     "text": [
      "0 0\n",
      "0 1\n",
      "0 2\n",
      "1 0\n",
      "1 1\n",
      "1 2\n",
      "2 0\n",
      "2 1\n",
      "2 2\n"
     ]
    }
   ],
   "source": [
    "# 1 Google complexity of built-in functions\n",
    "\n",
    "# .index() - O(n)\n",
    "# sum() - O(n)\n",
    "# list.remove() - O(n)\n",
    "\n",
    "# 2 Look for nesting\n",
    "# NESTING\n",
    "# When an operation is occuring inside of an iteration, this will exponentially\n",
    "# increase time complexity\n",
    "# 1 for loop in another for loop = O(n*n) - O(n^2)\n",
    "# linear operation inside for loop (.remove() from list)\n",
    "nums = list(range(3))\n",
    "for i in range(len(nums)):\n",
    "    for j in range(len(nums)):\n",
    "        print(i,j)\n",
    "        \n",
    "#O(logn) O(nlogn) are rarer and also harder to calculate\n",
    "# same with factorial, polynomial, and exponential"
   ]
  },
  {
   "cell_type": "code",
   "execution_count": null,
   "metadata": {},
   "outputs": [],
   "source": [
    "# lists(modified arrays)\n",
    "alist[1] # O(1) accessing\n",
    "alist.index('value') # O(n) searching\n",
    "alist.append('value') # O(1) adding to the end\n",
    "# appending to the start or at some index is more compliacted and O(n)\n",
    "alist.remove('value') # O(n)\n",
    "\n",
    "# Dictionaries (Modified Hashmaps)\n",
    "adict['key'] #O(1) accessing\n",
    "adict['key'] = 'value' # O(1) inserting a value/updating a value\n",
    "del adict['key'] # O(1) remove a k/'v'\n",
    "if key in adict # testing key membership\n",
    "if key in adict.keys() # BAD PRACTICE O(n), use line12 instead\n",
    "# O(n) for searching for a value (.items()) (.values())\n",
    "# Unordered, no indexing\n",
    "\n",
    "# Sets (Modified Hashtable)\n",
    "aset.add('val') # O(1) adding\n",
    "aset.remove('val') # O(1) removal\n",
    "# accessing a value in a set/searching for a value O(n)\n",
    "if val in aset # O(1) membership test\n",
    "# sets do not accept duplicates"
   ]
  },
  {
   "cell_type": "markdown",
   "metadata": {},
   "source": [
    "## Arrays"
   ]
  },
  {
   "cell_type": "markdown",
   "metadata": {},
   "source": [
    "In python we benefit from the dynamic array which means the block of memory will expand as needed for the given input to the array. In traditional arrays (depending on the type of operating system) we will usually store our inputs in 4 or 8 consecutive blocks of memory. Below is a diagram of how that looks under the hood:\n",
    "\n",
    "<img src=\"http://www.mathcs.emory.edu/~cheung/Courses/170/Syllabus/09/FIGS/array02x.gif\" style=\"height:250px; width:350px;\">"
   ]
  },
  {
   "cell_type": "markdown",
   "metadata": {},
   "source": [
    "## Which in python looks like this:"
   ]
  },
  {
   "cell_type": "code",
   "execution_count": null,
   "metadata": {},
   "outputs": [],
   "source": [
    "# In other languages, append method would be linear time complexity\n",
    "# we benefit from dynamic array (our list) because we can expand the array as needed in python\n",
    "# this makes adding to the end of our array O(1)\n",
    "arr.append(1) # would be constant time\n",
    "\n",
    "# compare this to a language that has static arrays\n",
    "# we would need to set aside the memory of that array before adding\n",
    "# anything to that array\n",
    "let arr = new Array(5); # this says -  I'm making an array of len 5 (JS)\n",
    "arr[3] = 'hi'\n",
    "# if we wanted to add a 6th element to our array, we need to portion\n",
    "# off another section of memory in order to do so increasing time complexity\n",
    "\n",
    "# When we're talking about other languages Java and Javascript are not related\n",
    "# Java:Javascript == Ham:Hamster"
   ]
  },
  {
   "cell_type": "markdown",
   "metadata": {},
   "source": [
    "### Let's take a look at some of the time and space analysis of arrays"
   ]
  },
  {
   "cell_type": "code",
   "execution_count": null,
   "metadata": {},
   "outputs": [],
   "source": [
    "# lists(modified arrays)\n",
    "alist[1] # O(1) accessing\n",
    "alist.index('value') # O(n) searching\n",
    "alist.append('value') # O(1) adding to the end\n",
    "# appending to the start or at some index is more compliacted and O(n)\n",
    "alist.remove('value') # O(n)"
   ]
  },
  {
   "cell_type": "markdown",
   "metadata": {},
   "source": [
    "## Stacks and Queues\n",
    "\n",
    "** Stacks ** as the name suggests is a data structure that allows for data to follow the Last In First Out priciple(LIFO). Think of a stack of pancakes for example. To get the first pancake you would  start with the top and go down.\n",
    "\n",
    "##### Searching through a stack will be Linear Time O(n) - Constant Space O(1)\n",
    "##### Selecting the last item will be done in Constant Time O(1) - Constant Space O(1)\n",
    "##### Adding to the stack should take Constant Time O(1) - Constant Space O(1)\n",
    "\n",
    "** Queues ** are similar but in this case follow the First In First Out principle(FIFO). Think of this as a line in a black friday sale. The first person camped out for the big screen tv is the first to get it.\n",
    "\n",
    "##### Searching through a queue will be Linear Time O(n) - Constant Space O(1)\n",
    "##### Selecting the first item will be done in Constant Time O(1) - Constant Space O(1)\n",
    "##### Adding to the queue should take Constant Time O(1) - Constant Space O(1)"
   ]
  },
  {
   "cell_type": "code",
   "execution_count": null,
   "metadata": {},
   "outputs": [],
   "source": [
    "# Python lists function as stacks\n",
    "alist = ['Dimitris', 'Ashley', 'Matt']\n",
    "alist.append('Rashel') # O(1) to add to the end of the list\n",
    "# Built-in pop function\n",
    "print(alist.pop(2)) # O(1) removal from the end of a list is constant time\n",
    "# Default behavior of the pop function is at the end because it is a constant time function at the end but linear if at the front"
   ]
  },
  {
   "cell_type": "code",
   "execution_count": 3,
   "metadata": {},
   "outputs": [
    {
     "name": "stdout",
     "output_type": "stream",
     "text": [
      "deque(['Rashel', 'Dimitris', 'Ashley'])\n",
      "Rashel\n",
      "deque(['Dimitris', 'Ashley'])\n"
     ]
    }
   ],
   "source": [
    "# Know about the existence of queues\n",
    "# And know about whatever built-in queue functionality exists in the language you're working with\n",
    "# In pythong, I use the collections deque when I need to implement a queue\n",
    "from collections import deque\n",
    "q = deque()\n",
    "q.append('Dimitris')\n",
    "q.appendleft('Rashel')\n",
    "q.append('Ashley')\n",
    "print(q)\n",
    "print(q.popleft())\n",
    "print(q)"
   ]
  },
  {
   "cell_type": "markdown",
   "metadata": {},
   "source": [
    "## Linked List (Data Structure)\n",
    "\n",
    "A linked list is created by using the node class. We create a Node object and create another class to use this node object. We pass the appropriate values thorugh the node object to point the to the next data elements.\n",
    "\n",
    "There are some advantages and disadvantages with this data structure. **Advantages** Linked Lists can save memory because they can be flexibile with memory management which saves memory. **Disadvantages** Finding or adding to the list requires traversing the entire list."
   ]
  },
  {
   "cell_type": "code",
   "execution_count": 8,
   "metadata": {},
   "outputs": [
    {
     "name": "stdout",
     "output_type": "stream",
     "text": [
      "Sunday\n",
      "Monday\n",
      "Tuesday\n",
      "Wednesday\n",
      "Thursday\n"
     ]
    }
   ],
   "source": [
    "# Implementation of a linked list\n",
    "\n",
    "# 2 components to our solution - Node and LinkedList\n",
    "\n",
    "class Node():\n",
    "    def __init__(self, value):\n",
    "        self.value = value\n",
    "        self.next = None\n",
    "    \n",
    "class LinkedList():\n",
    "    def __init__(self):\n",
    "        self.head = None\n",
    "    \n",
    "    # Can be used for creating the head - but also to add something to the start of our linked list\n",
    "    def pushOn(self, new_value):\n",
    "        new_node = Node(new_value)\n",
    "        new_node.next = self.head\n",
    "        self.head = new_node\n",
    "    \n",
    "    # insert at a specific spot\n",
    "    def insertAfter(self, prev_node, new_value):\n",
    "        # check if its a valid prev_node\n",
    "        if prev_node is None:\n",
    "            print('Empty previous node')\n",
    "            return\n",
    "        # if the previous node is valid and not empty\n",
    "        new_node = Node(new_value)\n",
    "        \n",
    "        # update the new node's next to be the prev_node's next\n",
    "        new_node.next = prev_node.next\n",
    "        \n",
    "        # update the prev node's next to be the new node\n",
    "        prev_node.next = new_node\n",
    "        \n",
    "    # add to the end\n",
    "    def append(self, new_value):\n",
    "        # create a new node\n",
    "        new_node = Node(new_value)\n",
    "        \n",
    "        # check if linkedlist is currently empty -> if it is, this new node will be the head of our list\n",
    "        if self.head is None:\n",
    "            self.head = new_node\n",
    "            return\n",
    "        # if linkedlist is not empty -> then we have to find the tail of the linkedlist\n",
    "        # means we have to traverse the list\n",
    "        last = self.head\n",
    "        \n",
    "        # while last.next is not none -> continue our loop until we find a null value (aka we've found our tail node)\n",
    "        while last.next: \n",
    "            last = last.next \n",
    "            \n",
    "        # change current last node value to point to our New Node\n",
    "        last.next = new_node\n",
    "        \n",
    "            \n",
    "    #look at our whole linked list\n",
    "    def traverse(self):\n",
    "        # similar to lines 46 through 52\n",
    "        temp = self.head\n",
    "        while temp:\n",
    "            print(temp.value)\n",
    "            temp = temp.next\n",
    "            \n",
    "weekdays_linked = LinkedList()\n",
    "\n",
    "weekdays_linked.pushOn('Monday')\n",
    "weekdays_linked.append('Tuesday')\n",
    "weekdays_linked.append('Thursday')\n",
    "weekdays_linked.insertAfter(weekdays_linked.head.next, 'Wednesday')\n",
    "weekdays_linked.pushOn('Sunday')\n",
    "weekdays_linked.traverse()\n"
   ]
  },
  {
   "cell_type": "code",
   "execution_count": null,
   "metadata": {},
   "outputs": [],
   "source": []
  },
  {
   "cell_type": "code",
   "execution_count": null,
   "metadata": {},
   "outputs": [],
   "source": [
    "import re\n",
    "a_text = 'In computing, a hash table hash map is a data structure which implements an associative array abstract data type, a structure that can map keys to values. A hash table uses a hash function to compute an index into an array of buckets or slots from which the desired value can be found'\n",
    "def countme(stringy):\n",
    "    wordpat = re.compile(\"([\\w]+)\")\n",
    "    wordy = sorted(wordpat.findall(stringy.lower()))      \t#O(nlog(n)) for sorted\n",
    "    wordict = {}\n",
    "    for word in wordy:                         \t\t\t#O(n)\n",
    "        if word not in wordict.keys():         \t\t\t#O(1) == because searching in a dict is constant\n",
    "            wordict[word] = 1\n",
    "        else:\n",
    "            wordict[word] += 1\n",
    "    return wordict\n",
    "print(countme(a_text))\n",
    "\n",
    "# Regular Expressions' time complexity is variable"
   ]
  }
 ],
 "metadata": {
  "kernelspec": {
   "display_name": "Python 3",
   "language": "python",
   "name": "python3"
  },
  "language_info": {
   "codemirror_mode": {
    "name": "ipython",
    "version": 3
   },
   "file_extension": ".py",
   "mimetype": "text/x-python",
   "name": "python",
   "nbconvert_exporter": "python",
   "pygments_lexer": "ipython3",
   "version": "3.8.5"
  }
 },
 "nbformat": 4,
 "nbformat_minor": 2
}
