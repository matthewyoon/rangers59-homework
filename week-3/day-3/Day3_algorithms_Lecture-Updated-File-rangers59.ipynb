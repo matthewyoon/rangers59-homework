{
 "cells": [
  {
   "cell_type": "markdown",
   "metadata": {},
   "source": [
    "# Algorithms, Binary Search & Linked Lists"
   ]
  },
  {
   "cell_type": "markdown",
   "metadata": {},
   "source": [
    "## Tasks Today:\n",
    " \n",
    "1) <b>In-Place Algorithms</b> <br>\n",
    " &nbsp;&nbsp;&nbsp;&nbsp; a) Syntax <br>\n",
    " &nbsp;&nbsp;&nbsp;&nbsp; a) Out of Place Algorithm <br>\n",
    " &nbsp;&nbsp;&nbsp;&nbsp; b) In-Class Exercise #1 <br>\n",
    "2) <b>Two Pointers</b> <br>\n",
    "3) <b>Linked Lists</b> <br>\n",
    "4) <b>Merge Sort</b> <br>\n",
    " &nbsp;&nbsp;&nbsp;&nbsp; a) Video on Algorithms <br>\n",
    " &nbsp;&nbsp;&nbsp;&nbsp; b) How it Works <br>\n",
    "5) <b>Exercises</b> <br>\n",
    " &nbsp;&nbsp;&nbsp;&nbsp; a) Exercise #1 - Reverse a List in Place Using an In-Place Algorithm <br>\n",
    " &nbsp;&nbsp;&nbsp;&nbsp; b) Exercise #2 - Find Distinct Words <br>\n",
    " &nbsp;&nbsp;&nbsp;&nbsp; c) Exercise #3 - Write a program to implement a Linear Search Algorithm. <br>"
   ]
  },
  {
   "cell_type": "markdown",
   "metadata": {},
   "source": [
    "## In-Place Algorithms"
   ]
  },
  {
   "cell_type": "markdown",
   "metadata": {},
   "source": [
    "#### Syntax"
   ]
  },
  {
   "cell_type": "code",
   "execution_count": 1,
   "metadata": {},
   "outputs": [
    {
     "name": "stdout",
     "output_type": "stream",
     "text": [
      "['Erin', 'Terrell', 'Eric', 'Sam']\n"
     ]
    }
   ],
   "source": [
    "# swapper\n",
    "# we want to swap the values at 2 indicies in our list\n",
    "def swap(alist, x, y):\n",
    "#     valx = alist[x]\n",
    "#     valy = alist[y]\n",
    "#     alist[x] = valy\n",
    "#     alist[y] = valx # No an in-place algorithm because we have extra variables holding values\n",
    "    alist[x],alist[y] = alist[y],alist[x]\n",
    "    return alist\n",
    "\n",
    "my_list = ['Sam', 'Terrell', 'Eric', 'Erin']\n",
    "print(swap(my_list, 0, 3))"
   ]
  },
  {
   "cell_type": "markdown",
   "metadata": {},
   "source": [
    "#### Out of Place Algorithm"
   ]
  },
  {
   "cell_type": "code",
   "execution_count": 5,
   "metadata": {},
   "outputs": [
    {
     "name": "stdout",
     "output_type": "stream",
     "text": [
      "['Erin', 'Terrell', 'Eric', 'Sam']\n",
      "['Sam', 'Eric', 'Terrell', 'Erin']\n"
     ]
    },
    {
     "data": {
      "text/plain": [
       "['d', 'c', 'b', 'a']"
      ]
     },
     "execution_count": 5,
     "metadata": {},
     "output_type": "execute_result"
    }
   ],
   "source": [
    "# reverse our list completely\n",
    "# main idea of an out of place algorithm is that we \n",
    "# maintain data integrity and dont modify our original data structure\n",
    "my_list_copy = my_list[::-1]\n",
    "print(my_list)\n",
    "print(my_list_copy)\n",
    "\n",
    "array1 = ['a', 'b', 'c', 'd']\n",
    "# input - some array\n",
    "# output - a NEW array that is the input array in reverse\n",
    "def reverse(array):\n",
    "#     ans = ['']*len(array)\n",
    "    ans = []\n",
    "    for i in range(1, len(array)+1):\n",
    "        ans.append(array[-i])\n",
    "    return ans\n",
    "\n",
    "newarr = reverse(array1)\n",
    "newarr"
   ]
  },
  {
   "cell_type": "code",
   "execution_count": 6,
   "metadata": {},
   "outputs": [
    {
     "name": "stdout",
     "output_type": "stream",
     "text": [
      "['Erin', 'Terrell', 'Eric', 'Sam']\n",
      "['Sam', 'Terrell', 'Eric', 'Erin']\n"
     ]
    }
   ],
   "source": [
    "# out of place swapper\n",
    "def swap2(alist, x, y):\n",
    "    # tell it to make a copy (slicing or .copy)\n",
    "    blist = alist[:]\n",
    "    blist[x],blist[y] = blist[y],blist[x]\n",
    "    return blist\n",
    "my_list2 = ['Sam', 'Terrell', 'Eric', 'Erin']\n",
    "print(swap2(my_list2, 0, 3))\n",
    "print(my_list2)"
   ]
  },
  {
   "cell_type": "markdown",
   "metadata": {},
   "source": [
    "#### Out of Place vs. In-place in brief:\n",
    "#### Did I modify my input data? If so, probably in-place. If not, probably out of place"
   ]
  },
  {
   "cell_type": "markdown",
   "metadata": {},
   "source": [
    "#### In-Class Exercise #1 <br>\n",
    "<p>Write a function that takes in four arguments (list, index1, index2, index3), and swaps those three positions in the list passed in.</p>"
   ]
  },
  {
   "cell_type": "code",
   "execution_count": 13,
   "metadata": {},
   "outputs": [
    {
     "name": "stdout",
     "output_type": "stream",
     "text": [
      "[10, 3, 8, 4, 4, 2, 6]\n"
     ]
    }
   ],
   "source": [
    "# In-place algorithm\n",
    "\n",
    "l_1 = [10, 4, 3, 8, 4, 2, 6]\n",
    "\n",
    "def swapper(list1, x, y, z):\n",
    "    list1[x],list1[y],list1[z] = list1[y],list1[z],list1[x]\n",
    "    return list1\n",
    "print(swapper(l_1, 1, 2, 3))"
   ]
  },
  {
   "cell_type": "code",
   "execution_count": 15,
   "metadata": {},
   "outputs": [
    {
     "name": "stdout",
     "output_type": "stream",
     "text": [
      "[3]\n"
     ]
    }
   ],
   "source": [
    "l_1 = [10, 4, 3, 8, 4, 2, 6]\n",
    "\n",
    "# I want to in-place remove all of the even numbers in our list\n",
    "def ipremove(alist):\n",
    "    i = 0 # i is == to the index number not looping through each index\n",
    "    while i < len(alist):\n",
    "        if alist[i] % 2 == 0: #testing for the value held at \"i's\" index\n",
    "            alist.remove(alist[i])\n",
    "        else:\n",
    "            i += 1\n",
    "    return alist\n",
    "\n",
    "print(ipremove(l_1))"
   ]
  },
  {
   "cell_type": "markdown",
   "metadata": {},
   "source": [
    "## Two Pointers"
   ]
  },
  {
   "cell_type": "markdown",
   "metadata": {},
   "source": [
    "#### Syntax"
   ]
  },
  {
   "cell_type": "code",
   "execution_count": null,
   "metadata": {},
   "outputs": [],
   "source": [
    "# 3 additional variables commonly used to keep track of something while looping\n",
    "# Flag - boolean value that controls a loop (usually while loop)\n",
    "#        based off a certain condition\n",
    "flag = True\n",
    "while flag:\n",
    "    if a_condition:\n",
    "        flag = False\n",
    "# Counter \n",
    "i = 0\n",
    "while i < 10:\n",
    "    i += 0\n",
    "# Pointer - will control whichever index we want to look at\n",
    "n = 0\n",
    "while n < len(l_1):\n",
    "    print(l_1[n])\n",
    "    n += 1"
   ]
  },
  {
   "cell_type": "code",
   "execution_count": 19,
   "metadata": {},
   "outputs": [
    {
     "data": {
      "text/plain": [
       "[8, 7, 6, 5, 4, 3, 2, 1]"
      ]
     },
     "execution_count": 19,
     "metadata": {},
     "output_type": "execute_result"
    }
   ],
   "source": [
    "# alist[left], alist[right] = alist[right], alist[left]\n",
    "# reverse the list in place. With the use of 2 pointers\n",
    "def twoPointers(alist):\n",
    "    left = 0\n",
    "    right = len(alist)-1\n",
    "    while left < right:\n",
    "        alist[left], alist[right] = alist[right], alist[left]\n",
    "        left += 1\n",
    "        right -= 1\n",
    "    return alist\n",
    "my_list2 = [1, 2, 3, 4, 5, 6, 7, 8]\n",
    "twoPointers(my_list2)"
   ]
  },
  {
   "cell_type": "code",
   "execution_count": 23,
   "metadata": {},
   "outputs": [
    {
     "name": "stdout",
     "output_type": "stream",
     "text": [
      "[0, 3, 5, 6, 7, 7, 8]\n"
     ]
    }
   ],
   "source": [
    "list1 = [3,5,7,8]\n",
    "list2 = [0,6,7,9]\n",
    "# my goal is to merge the two lists in sorted order\n",
    "# Time complexity of below is worse\n",
    "newlist = sorted(list1 + list2) # O(n*log(n))\n",
    "newlist\n",
    "\n",
    "def pointy(lista, listb): # O(n) \"Linear Time Complexity\"\n",
    "    x=0\n",
    "    y=0\n",
    "    ans = []\n",
    "    while x < len(lista) and y < len(listb): # only piece that increases time complexity\n",
    "        if lista[x] < listb[y]:\n",
    "            ans.append(lista[x])\n",
    "            x += 1\n",
    "        else:\n",
    "            ans.append(listb[y])\n",
    "            y += 1\n",
    "    return ans\n",
    "print(pointy(list1, list2))"
   ]
  },
  {
   "cell_type": "code",
   "execution_count": null,
   "metadata": {},
   "outputs": [],
   "source": [
    "Time complexity"
   ]
  },
  {
   "cell_type": "markdown",
   "metadata": {},
   "source": [
    "#### Video of Algorithms <br>\n",
    "<p>Watch the video about algorithms.</p>\n",
    "\n",
    "https://www.youtube.com/watch?v=Q9HjeFD62Uk\n",
    "\n",
    "https://www.youtube.com/watch?v=kPRA0W1kECg\n",
    "\n",
    "https://www.youtube.com/watch?v=ZZuD6iUe3Pc"
   ]
  },
  {
   "cell_type": "markdown",
   "metadata": {},
   "source": [
    "# Sorting Algorithms"
   ]
  },
  {
   "cell_type": "markdown",
   "metadata": {},
   "source": [
    "#### Bubble Sort\n",
    "\n",
    "Worst Case: O(n^2) Time - O(1) Space"
   ]
  },
  {
   "cell_type": "code",
   "execution_count": 35,
   "metadata": {},
   "outputs": [
    {
     "data": {
      "text/plain": [
       "[1, 2, 3, 4, 5]"
      ]
     },
     "execution_count": 35,
     "metadata": {},
     "output_type": "execute_result"
    }
   ],
   "source": [
    "# Best case: O(n) linear\n",
    "# Works by swapping\n",
    "def swap(i, j, array):\n",
    "    array[i], array[j] = array[j],array[i]\n",
    "    return array\n",
    "\n",
    "def bubbleSort(array):\n",
    "    isSorted = False\n",
    "    while not isSorted:\n",
    "        isSorted = True\n",
    "        for i in range(len(array)-1):\n",
    "            if array [i] > array[i+1]:\n",
    "                swap(i, i+1, array)\n",
    "                isSorted = False\n",
    "    return array\n",
    "bubbleSort([5,4,3,2,1])"
   ]
  },
  {
   "cell_type": "markdown",
   "metadata": {},
   "source": [
    "##### Insertion Sort\n",
    "\n",
    "Worst Case: O(n^2) time - O(1)space"
   ]
  },
  {
   "cell_type": "code",
   "execution_count": 36,
   "metadata": {},
   "outputs": [
    {
     "data": {
      "text/plain": [
       "[1, 3, 6, 9, 23, 56]"
      ]
     },
     "execution_count": 36,
     "metadata": {},
     "output_type": "execute_result"
    }
   ],
   "source": [
    "def swap(i, j, array):\n",
    "    array[i], array[j] = array[j],array[i]\n",
    "    return array\n",
    "\n",
    "def insertionSort(array):\n",
    "    for i in range(1, len(array)):\n",
    "        j = i\n",
    "        while j > 0 and array[j] < array[j-1]:\n",
    "            swap(j, j-1, array)\n",
    "            j -= 1\n",
    "    return array\n",
    "\n",
    "insertionSort([23, 1, 56, 3, 6, 9])"
   ]
  },
  {
   "cell_type": "markdown",
   "metadata": {},
   "source": [
    "## Merge Sort"
   ]
  },
  {
   "cell_type": "markdown",
   "metadata": {},
   "source": [
    "#### How it Works"
   ]
  },
  {
   "cell_type": "code",
   "execution_count": 41,
   "metadata": {},
   "outputs": [
    {
     "name": "stdout",
     "output_type": "stream",
     "text": [
      "Splitting... [6, 9, 2, 3, 6, 7, 10]\n",
      "Splitting... [6, 9, 2]\n",
      "Splitting... [6]\n",
      "Merging:  [6]\n",
      "Splitting... [9, 2]\n",
      "Splitting... [9]\n",
      "Merging:  [9]\n",
      "Splitting... [2]\n",
      "Merging:  [2]\n",
      "Merging:  [2, 9]\n",
      "Merging:  [2, 6, 9]\n",
      "Splitting... [3, 6, 7, 10]\n",
      "Splitting... [3, 6]\n",
      "Splitting... [3]\n",
      "Merging:  [3]\n",
      "Splitting... [6]\n",
      "Merging:  [6]\n",
      "Merging:  [3, 6]\n",
      "Splitting... [7, 10]\n",
      "Splitting... [7]\n",
      "Merging:  [7]\n",
      "Splitting... [10]\n",
      "Merging:  [10]\n",
      "Merging:  [7, 10]\n",
      "Merging:  [3, 6, 7, 10]\n",
      "Merging:  [2, 3, 6, 6, 7, 9, 10]\n"
     ]
    },
    {
     "data": {
      "text/plain": [
       "[2, 3, 6, 6, 7, 9, 10]"
      ]
     },
     "execution_count": 41,
     "metadata": {},
     "output_type": "execute_result"
    }
   ],
   "source": [
    "# benefit - has a better worst case than bubble or insert\n",
    "# Recursion\n",
    "# Step 1: Splitting everything up into its own group\n",
    "# Step 2: From left to right we're merging two groups together\n",
    "# Step 3: While we merge, pull items into correct order in the merged list\n",
    "# Step 4: Repeat steps 2/3/4 until we just have the opne big list again\n",
    "\n",
    "def mergeSort(alist):\n",
    "    print(\"Splitting...\", alist)\n",
    "    \n",
    "    # step 1\n",
    "    if len(alist) > 1:\n",
    "        mid = len(alist)//2\n",
    "        lefthalf = alist[:mid]\n",
    "        righthalf = alist[mid:]\n",
    "        \n",
    "        # recursive call\n",
    "        mergeSort(lefthalf)\n",
    "        mergeSort(righthalf)\n",
    "        \n",
    "        # index pointers\n",
    "        i = 0 # left pointer\n",
    "        j = 0 # right pointer\n",
    "        k = 0 # main array pointer\n",
    "        \n",
    "        # Step 2:\n",
    "        while i < len(lefthalf) and j <len(righthalf):\n",
    "            if lefthalf[i] < righthalf[j]:\n",
    "                alist[k] = lefthalf[i]\n",
    "                i = i+1\n",
    "            else:\n",
    "                alist[k] = righthalf[j]\n",
    "                j = j+1\n",
    "            k = k+1\n",
    "        \n",
    "        # Step 3: placing items in the correct position\n",
    "        while i < len(lefthalf):\n",
    "            alist[k] = lefthalf [i]\n",
    "            i = i+1\n",
    "            k = k+1\n",
    "        while j < len(righthalf):\n",
    "            alist[k] = righthalf[j]\n",
    "            j = j+1\n",
    "            k = k+1\n",
    "    print(\"Merging: \", alist)\n",
    "    return alist\n",
    "    \n",
    "mergeSort([6,9,2,3,6,7,10])"
   ]
  },
  {
   "cell_type": "markdown",
   "metadata": {},
   "source": [
    "# Binary Search\n",
    "\n",
    "The Binary Search algorithm works by finding the number in the middle of a given array and comparing it to the target. Given that the array is sorted\n",
    "\n",
    "* The worst case run time for this algorithm is `O(log(n))`"
   ]
  },
  {
   "cell_type": "code",
   "execution_count": 43,
   "metadata": {},
   "outputs": [
    {
     "data": {
      "text/plain": [
       "'The index of 3 is 1.'"
      ]
     },
     "execution_count": 43,
     "metadata": {},
     "output_type": "execute_result"
    }
   ],
   "source": [
    "# Find a value within a sorted list\n",
    "# smaller value == left\n",
    "# greater value == right\n",
    "# input array MUST be sorted\n",
    "\n",
    "def binarySearch(array, target):\n",
    "    left = 0\n",
    "    right = len(array)-1\n",
    "    while left <= right:\n",
    "        middle = (left + right)//2\n",
    "        potentialMatch = array[middle]\n",
    "        if target == potentialMatch:\n",
    "            return f'The index of {target} is {middle}.'\n",
    "        elif target < potentialMatch:\n",
    "            right = middle-1\n",
    "        else:\n",
    "            left = middle+1\n",
    "    return f'It is not here'\n",
    "\n",
    "binarySearch([1, 3, 6, 9, 23, 56], 3)"
   ]
  },
  {
   "cell_type": "markdown",
   "metadata": {},
   "source": [
    "# Exercises"
   ]
  },
  {
   "cell_type": "markdown",
   "metadata": {},
   "source": [
    "### Exercise #1 <br>\n",
    "<p>Reverse the list below in-place using an in-place algorithm.<br>For extra credit: Reverse the strings at the same time.</p>"
   ]
  },
  {
   "cell_type": "code",
   "execution_count": 2,
   "metadata": {},
   "outputs": [
    {
     "name": "stdout",
     "output_type": "stream",
     "text": [
      "['.', 'this', 'is', 'a', 'sentence']\n"
     ]
    }
   ],
   "source": [
    "words = ['this' , 'is', 'a', 'sentence', '.']\n",
    "def swap(alist, w, x, y, z):\n",
    "    alist[w],alist[x],alist[y],alist[z] = alist[z],alist[y],alist[x],alist[w]\n",
    "    return alist\n",
    "swap(words,0,1,2,3)\n",
    "\n",
    "words.reverse()\n",
    "print(words)"
   ]
  },
  {
   "cell_type": "markdown",
   "metadata": {},
   "source": [
    "### Exercise #2 <br>\n",
    "<p>Create a function that counts how many distinct words are in the string below, then outputs a dictionary with the words as the key and the value as the amount of times that word appears in the string.<br>Should output:<br>{'a': 5,<br>\n",
    " 'abstract': 1,<br>\n",
    " 'an': 3,<br>\n",
    " 'array': 2, ... etc...</p>"
   ]
  },
  {
   "cell_type": "code",
   "execution_count": 12,
   "metadata": {},
   "outputs": [
    {
     "name": "stdout",
     "output_type": "stream",
     "text": [
      "{'In': 1, 'computing,': 1, 'a': 4, 'hash': 4, 'table': 2, 'map': 2, 'is': 1, 'data': 2, 'structure': 2, 'which': 2, 'implements': 1, 'an': 3, 'associative': 1, 'array': 2, 'abstract': 1, 'type,': 1, 'that': 1, 'can': 2, 'keys': 1, 'to': 2, 'values.': 1, 'A': 1, 'uses': 1, 'function': 1, 'compute': 1, 'index': 1, 'into': 1, 'of': 1, 'buckets': 1, 'or': 1, 'slots': 1, 'from': 1, 'the': 1, 'desired': 1, 'value': 1, 'be': 1, 'found': 1}\n"
     ]
    },
    {
     "data": {
      "text/plain": [
       "{'a': 5,\n",
       " 'abstract': 1,\n",
       " 'an': 3,\n",
       " 'array': 2,\n",
       " 'associative': 1,\n",
       " 'be': 1,\n",
       " 'buckets': 1,\n",
       " 'can': 2,\n",
       " 'compute': 1,\n",
       " 'computing': 1,\n",
       " 'data': 2,\n",
       " 'desired': 1,\n",
       " 'found': 1,\n",
       " 'from': 1,\n",
       " 'function': 1,\n",
       " 'hash': 4,\n",
       " 'implements': 1,\n",
       " 'in': 1,\n",
       " 'index': 1,\n",
       " 'into': 1,\n",
       " 'is': 1,\n",
       " 'keys': 1,\n",
       " 'map': 2,\n",
       " 'of': 1,\n",
       " 'or': 1,\n",
       " 'slots': 1,\n",
       " 'structure': 2,\n",
       " 'table': 2,\n",
       " 'that': 1,\n",
       " 'the': 1,\n",
       " 'to': 2,\n",
       " 'type': 1,\n",
       " 'uses': 1,\n",
       " 'value': 1,\n",
       " 'values': 1,\n",
       " 'which': 2}"
      ]
     },
     "execution_count": 12,
     "metadata": {},
     "output_type": "execute_result"
    }
   ],
   "source": [
    "a_text = 'In computing, a hash table hash map is a data structure which implements an associative array abstract data type, a structure that can map keys to values. A hash table uses a hash function to compute an index into an array of buckets or slots from which the desired value can be found'\n",
    "a_list = (a_text.split(\" \"))\n",
    "\n",
    "def newDict(list1):\n",
    "    d = {}\n",
    "    value_counter = 0\n",
    "    i = 0\n",
    "    while i < len(list1):\n",
    "        if isinstance(list1[i], str):\n",
    "            if list1[i] in d:\n",
    "                d[list1[i]] += 1\n",
    "            else:\n",
    "                d[list1[i]] = 1\n",
    "            i += 1\n",
    "    else:\n",
    "        return d\n",
    "    \n",
    "print(newDict(a_list))\n",
    "\n",
    "#Sam's answer\n",
    "\n",
    "from collections import Counter\n",
    "# def countitup(a_text):\n",
    "#     w = a_text[:]\n",
    "#     w = w.replace(',','')\n",
    "#     w = w.replace('.','')\n",
    "#     w = w.lower()\n",
    "#     w = sorted(w.split(' '))\n",
    "#     print(w)\n",
    "#     return Counter(w)\n",
    "\n",
    "# countitup(a_text)\n",
    "\n",
    "# With an empty dictionary\n",
    "\n",
    "def countitup(a_text):\n",
    "    sentence = a_text[:]\n",
    "    sentence = sentence.replace(',','')\n",
    "    sentence = sentence.replace('.','')\n",
    "    sentence = sentence.lower()\n",
    "    sentence = sorted(sentence.split(' '))\n",
    "    ans = {}\n",
    "    for word in sentence:\n",
    "        if word in ans:\n",
    "            ans[word] += 1\n",
    "        else:\n",
    "            ans[word] = 1\n",
    "    return ans\n",
    "\n",
    "countitup(a_text)"
   ]
  },
  {
   "cell_type": "markdown",
   "metadata": {},
   "source": [
    "## Exercise #3\n",
    "\n",
    "Write a program to implement a Linear Search Algorithm. Also in a comment, write the Time Complexity of the following algorithm.\n",
    "\n",
    "#### Hint: Linear Searching will require searching a list for a given number. "
   ]
  },
  {
   "cell_type": "code",
   "execution_count": 16,
   "metadata": {},
   "outputs": [
    {
     "name": "stdout",
     "output_type": "stream",
     "text": [
      "Not in list\n",
      "4\n"
     ]
    }
   ],
   "source": [
    "# inputs: some list, some value to find in the list\n",
    "# output: the index which holds the value\n",
    "\n",
    "new_list = [1, 21, 32, 42, 514, 51, 2, 20]\n",
    "\n",
    "def search(array, target):\n",
    " \n",
    "    for i in range(0, len(array)):\n",
    "        if (array[i] == target):\n",
    "            return i\n",
    "    return 'Not in list'\n",
    " \n",
    "\n",
    "my_list = [1, 2, 3, 4, 5, 8, 10, 11, 15]\n",
    "\n",
    "print(search(my_list, 500))\n",
    "print(search(new_list, 514))\n",
    "\n",
    "# Since the if statement doesn't have any other functions and it's comparing\n",
    "# an already held variable (in i), I believe it has constant time complexity.\n",
    "# But the for loop will be O(n) I believe. Linear time complexity."
   ]
  }
 ],
 "metadata": {
  "kernelspec": {
   "display_name": "Python 3",
   "language": "python",
   "name": "python3"
  },
  "language_info": {
   "codemirror_mode": {
    "name": "ipython",
    "version": 3
   },
   "file_extension": ".py",
   "mimetype": "text/x-python",
   "name": "python",
   "nbconvert_exporter": "python",
   "pygments_lexer": "ipython3",
   "version": "3.8.5"
  }
 },
 "nbformat": 4,
 "nbformat_minor": 2
}
